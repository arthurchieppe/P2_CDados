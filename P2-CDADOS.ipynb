{
 "cells": [
  {
   "cell_type": "code",
   "execution_count": 4,
   "metadata": {},
   "outputs": [],
   "source": [
    "import os \n",
    "import cv2\n",
    "import numpy as np\n",
    "\n",
    "categories = ['PNEUMONIA', 'NORMAL']\n",
    "img_size = 150\n",
    "def images_manipulation(data_dir):\n",
    "    data = [] \n",
    "    for category in categories: \n",
    "        path = os.path.join(data_dir, category)\n",
    "        class_num = categories.index(category)\n",
    "        for img in os.listdir(path):\n",
    "                img_arr = cv2.imread(os.path.join(path, img), cv2.IMREAD_GRAYSCALE)\n",
    "                resized_image = cv2.resize(img_arr, (img_size, img_size))\n",
    "                data.append([resized_image, class_num])\n",
    "    return np.array(data, dtype=object)\n",
    "\n",
    "test_data = images_manipulation('content/chest_xray/test')\n",
    "train_data = images_manipulation('content/chest_xray/train')\n"
   ]
  },
  {
   "cell_type": "code",
   "execution_count": 6,
   "metadata": {},
   "outputs": [
    {
     "name": "stdout",
     "output_type": "stream",
     "text": [
      "[array([[ 43,  40, 155, ...,  35,  41,  52],\n",
      "       [155, 176, 168, ...,  68,  44,  27],\n",
      "       [174, 174, 171, ..., 103,  45,  31],\n",
      "       ...,\n",
      "       [ 60,  33,  19, ...,  13,  10,  30],\n",
      "       [ 64,  32,  19, ...,  11,  11,  22],\n",
      "       [ 64,  33,  19, ...,  11,  22,  29]], dtype=uint8)\n",
      " 0]\n"
     ]
    }
   ],
   "source": [
    "print(test_data[1])"
   ]
  },
  {
   "cell_type": "code",
   "execution_count": null,
   "metadata": {},
   "outputs": [],
   "source": []
  }
 ],
 "metadata": {
  "kernelspec": {
   "display_name": "Python 3",
   "language": "python",
   "name": "python3"
  },
  "language_info": {
   "codemirror_mode": {
    "name": "ipython",
    "version": 3
   },
   "file_extension": ".py",
   "mimetype": "text/x-python",
   "name": "python",
   "nbconvert_exporter": "python",
   "pygments_lexer": "ipython3",
   "version": "3.7.6"
  }
 },
 "nbformat": 4,
 "nbformat_minor": 4
}
